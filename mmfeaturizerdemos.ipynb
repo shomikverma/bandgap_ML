{
 "cells": [
  {
   "cell_type": "code",
   "execution_count": 2,
   "id": "5ad66656",
   "metadata": {},
   "outputs": [],
   "source": [
    "import numpy as np\n",
    "import pymatgen as pmg\n",
    "import json\n",
    "\n",
    "from matminer.featurizers.base import MultipleFeaturizer\n",
    "\n",
    "# Jade's custom featurizer, should be in the same directory as the vanilla Bandstructure featurizer\n",
    "from matminer.featurizers.custom_bandfeat import BandFeaturizer \n",
    "\n",
    "from matminer.featurizers.composition import ElementProperty, ValenceOrbital, IonProperty, AtomicPackingEfficiency\n",
    "from matminer.featurizers.structure import StructureComposition, DensityFeatures#, GlobalInstabilityIndex\n",
    "from matminer.featurizers.site import SiteElementalProperty"
   ]
  },
  {
   "cell_type": "markdown",
   "id": "59463d67",
   "metadata": {},
   "source": [
    "### Test structure featurizers"
   ]
  },
  {
   "cell_type": "code",
   "execution_count": 3,
   "id": "9e4fee26",
   "metadata": {},
   "outputs": [
    {
     "data": {
      "text/plain": [
       "{'@module': 'pymatgen.core.structure',\n",
       " '@class': 'Structure',\n",
       " 'charge': None,\n",
       " 'lattice': {'matrix': [[4.06599314, 0.0, 0.0],\n",
       "   [2.03299657, 3.52125334, 0.0],\n",
       "   [2.03299657, 1.17375111, 3.31986949]],\n",
       "  'a': 4.06599314,\n",
       "  'b': 4.065993130600803,\n",
       "  'c': 4.065993132371334,\n",
       "  'alpha': 60.00000001039664,\n",
       "  'beta': 59.9999999379354,\n",
       "  'gamma': 59.99999992353087,\n",
       "  'volume': 47.53187262699164},\n",
       " 'sites': [{'species': [{'element': 'Ga', 'occu': 1}],\n",
       "   'abc': [0.0, 0.0, 0.0],\n",
       "   'xyz': [0.0, 0.0, 0.0],\n",
       "   'label': 'Ga',\n",
       "   'properties': {}},\n",
       "  {'species': [{'element': 'As', 'occu': 1}],\n",
       "   'abc': [0.25, 0.25, 0.25],\n",
       "   'xyz': [2.03299657, 1.1737511125, 0.8299673725],\n",
       "   'label': 'As',\n",
       "   'properties': {}}]}"
      ]
     },
     "execution_count": 3,
     "metadata": {},
     "output_type": "execute_result"
    }
   ],
   "source": [
    "with open('data/struct/PMG_2534.json') as file:\n",
    "    ds = json.load(file)\n",
    "ds"
   ]
  },
  {
   "cell_type": "code",
   "execution_count": 4,
   "id": "e9138e21",
   "metadata": {},
   "outputs": [],
   "source": [
    "struct = pmg.core.Structure.from_dict(ds)"
   ]
  },
  {
   "cell_type": "code",
   "execution_count": 5,
   "id": "66f9ef3e",
   "metadata": {},
   "outputs": [],
   "source": [
    "mft = MultipleFeaturizer([\n",
    "    DensityFeatures(), \n",
    "    StructureComposition(ElementProperty.from_preset(\"magpie\"))\n",
    "])"
   ]
  },
  {
   "cell_type": "code",
   "execution_count": 6,
   "id": "71fdec78",
   "metadata": {},
   "outputs": [
    {
     "data": {
      "text/plain": [
       "[5.053198954680699,\n",
       " 23.76593631349582,\n",
       " 0.32764117048013436,\n",
       " 31.0,\n",
       " 33.0,\n",
       " 2.0,\n",
       " 32.0,\n",
       " 1.0,\n",
       " 31.0,\n",
       " 74.0,\n",
       " 84.0,\n",
       " 10.0,\n",
       " 79.0,\n",
       " 5.0,\n",
       " 74.0,\n",
       " 69.723,\n",
       " 74.9216,\n",
       " 5.198599999999999,\n",
       " 72.3223,\n",
       " 2.5992999999999995,\n",
       " 69.723,\n",
       " 302.91,\n",
       " 1090.0,\n",
       " 787.0899999999999,\n",
       " 696.455,\n",
       " 393.54499999999996,\n",
       " 302.91,\n",
       " 13.0,\n",
       " 15.0,\n",
       " 2.0,\n",
       " 14.0,\n",
       " 1.0,\n",
       " 13.0,\n",
       " 4.0,\n",
       " 4.0,\n",
       " 0.0,\n",
       " 4.0,\n",
       " 0.0,\n",
       " 4.0,\n",
       " 119.0,\n",
       " 122.0,\n",
       " 3.0,\n",
       " 120.5,\n",
       " 1.5,\n",
       " 119.0,\n",
       " 1.81,\n",
       " 2.18,\n",
       " 0.3700000000000001,\n",
       " 1.995,\n",
       " 0.18500000000000005,\n",
       " 1.81,\n",
       " 2.0,\n",
       " 2.0,\n",
       " 0.0,\n",
       " 2.0,\n",
       " 0.0,\n",
       " 2.0,\n",
       " 1.0,\n",
       " 3.0,\n",
       " 2.0,\n",
       " 2.0,\n",
       " 1.0,\n",
       " 1.0,\n",
       " 10.0,\n",
       " 10.0,\n",
       " 0.0,\n",
       " 10.0,\n",
       " 0.0,\n",
       " 10.0,\n",
       " 0.0,\n",
       " 0.0,\n",
       " 0.0,\n",
       " 0.0,\n",
       " 0.0,\n",
       " 0.0,\n",
       " 13.0,\n",
       " 15.0,\n",
       " 2.0,\n",
       " 14.0,\n",
       " 1.0,\n",
       " 13.0,\n",
       " 0.0,\n",
       " 0.0,\n",
       " 0.0,\n",
       " 0.0,\n",
       " 0.0,\n",
       " 0.0,\n",
       " 3.0,\n",
       " 5.0,\n",
       " 2.0,\n",
       " 4.0,\n",
       " 1.0,\n",
       " 3.0,\n",
       " 0.0,\n",
       " 0.0,\n",
       " 0.0,\n",
       " 0.0,\n",
       " 0.0,\n",
       " 0.0,\n",
       " 0.0,\n",
       " 0.0,\n",
       " 0.0,\n",
       " 0.0,\n",
       " 0.0,\n",
       " 0.0,\n",
       " 3.0,\n",
       " 5.0,\n",
       " 2.0,\n",
       " 4.0,\n",
       " 1.0,\n",
       " 3.0,\n",
       " 18.8575,\n",
       " 22.175,\n",
       " 3.317499999999999,\n",
       " 20.51625,\n",
       " 1.6587499999999995,\n",
       " 18.8575,\n",
       " 0.0,\n",
       " 0.0,\n",
       " 0.0,\n",
       " 0.0,\n",
       " 0.0,\n",
       " 0.0,\n",
       " 0.0,\n",
       " 0.0,\n",
       " 0.0,\n",
       " 0.0,\n",
       " 0.0,\n",
       " 0.0,\n",
       " 64.0,\n",
       " 166.0,\n",
       " 102.0,\n",
       " 115.0,\n",
       " 51.0,\n",
       " 64.0]"
      ]
     },
     "execution_count": 6,
     "metadata": {},
     "output_type": "execute_result"
    }
   ],
   "source": [
    "#print(struct.composition)\n",
    "mft.featurize(struct)"
   ]
  },
  {
   "cell_type": "markdown",
   "id": "bcd2264b",
   "metadata": {},
   "source": [
    "### Test band structure featurizers"
   ]
  },
  {
   "cell_type": "code",
   "execution_count": 7,
   "id": "ad71be0e",
   "metadata": {},
   "outputs": [
    {
     "name": "stdout",
     "output_type": "stream",
     "text": [
      "OrderedDict([('band_gap', 0.11967289), ('is_gap_direct', True), ('direct_gap', 0.11967289), ('p_ex1_norm', 1.6851), ('p_ex1_degen', 4), ('n_ex1_norm', 1.6851), ('n_ex1_degen', 4), ('N_cbm', 1), ('mean_cbm_curv', 653.0980361387946), ('min_cbm_curv', 653.0980361387946), ('max_cbm_curv', 653.0980361387946), ('N_vbm', 3), ('mean_vbm_curv', -256.0366543919122), ('min_vbm_curv', -709.1412986730932), ('max_vbm_curv', -14.751091974980262)])\n"
     ]
    }
   ],
   "source": [
    "with open('data/band/PMG_2534.json') as file:\n",
    "    db = json.load(file)\n",
    "\n",
    "bs = pmg.electronic_structure.bandstructure.BandStructureSymmLine.from_dict(db)\n",
    "bs.structure = struct\n",
    "\n",
    "bf = BandFeaturizer()\n",
    "featuredict = bf.featurize(bs) # OrderedDict\n",
    "print(featuredict)\n",
    "#print(bf.feature_labels())"
   ]
  },
  {
   "cell_type": "markdown",
   "id": "1d4a3372",
   "metadata": {},
   "source": [
    "### Test Site featurizers"
   ]
  },
  {
   "cell_type": "code",
   "execution_count": null,
   "id": "d9159fb2",
   "metadata": {},
   "outputs": [],
   "source": [
    "struct.sites"
   ]
  },
  {
   "cell_type": "code",
   "execution_count": null,
   "id": "3215c37c",
   "metadata": {},
   "outputs": [],
   "source": [
    "# full list of features in matminer/utils/data_files/magpie_elementdata\n",
    "sft = SiteElementalProperty(properties=('Number','AtomicRadius','CovalentRadius','Column','NsValence','NpValence','NdValence','NfValence'))"
   ]
  },
  {
   "cell_type": "code",
   "execution_count": null,
   "id": "dafdbe17",
   "metadata": {},
   "outputs": [],
   "source": [
    "sft.featurize(struct, 0)"
   ]
  },
  {
   "cell_type": "code",
   "execution_count": null,
   "id": "fb0e4b16",
   "metadata": {},
   "outputs": [],
   "source": []
  }
 ],
 "metadata": {
  "kernelspec": {
   "display_name": "Python 3 (ipykernel)",
   "language": "python",
   "name": "python3"
  },
  "language_info": {
   "codemirror_mode": {
    "name": "ipython",
    "version": 3
   },
   "file_extension": ".py",
   "mimetype": "text/x-python",
   "name": "python",
   "nbconvert_exporter": "python",
   "pygments_lexer": "ipython3",
   "version": "3.9.16"
  }
 },
 "nbformat": 4,
 "nbformat_minor": 5
}
